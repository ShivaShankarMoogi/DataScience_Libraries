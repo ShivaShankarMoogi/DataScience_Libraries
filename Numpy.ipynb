{
 "cells": [
  {
   "cell_type": "markdown",
   "id": "1766098b",
   "metadata": {},
   "source": [
    "# Numpy"
   ]
  },
  {
   "cell_type": "markdown",
   "id": "364ca60f",
   "metadata": {},
   "source": [
    "# What is Numpy ?\n",
    "\n",
    "\n",
    "*Library used  by python for scientific computing and Data Analysis \n",
    "*Supports arrays and wide range of mathematical operations and functions.\n",
    "*Provides features like linear Algebra,Statistical Functions, Random number generation etc..."
   ]
  },
  {
   "cell_type": "markdown",
   "id": "b6ef82b8",
   "metadata": {},
   "source": [
    "\n",
    "\n"
   ]
  },
  {
   "cell_type": "markdown",
   "id": "5b5abbb4",
   "metadata": {},
   "source": [
    "# Why is it Useful ?\n",
    "\n",
    "*Supports Arrays\n",
    "*Mathematical and Statistical Functions\n",
    "*Fast and Efficient Computation\n",
    "*Integration with other libraries\n",
    "*Data Analysis\n",
    "*Scientific Computation\n",
    "*Large Data Maanipulation"
   ]
  },
  {
   "cell_type": "markdown",
   "id": "9a640c71",
   "metadata": {},
   "source": [
    "# Numpy Array and Python Lists\n",
    "\n"
   ]
  },
  {
   "cell_type": "markdown",
   "id": "4bb1c2b9",
   "metadata": {},
   "source": [
    "Numpy Array Vs Python List"
   ]
  },
  {
   "cell_type": "code",
   "execution_count": 8,
   "id": "d727abf5",
   "metadata": {},
   "outputs": [
    {
     "name": "stdout",
     "output_type": "stream",
     "text": [
      "Requirement already satisfied: numpy in c:\\users\\91879\\anaconda3\\lib\\site-packages (1.23.5)\n"
     ]
    }
   ],
   "source": [
    " ! pip install numpy # To Install Numpy Library \n",
    "    "
   ]
  },
  {
   "cell_type": "markdown",
   "id": "8596e7ba",
   "metadata": {},
   "source": [
    "Numpy Arrays are multi dimensional structures that are used to store large amounts of Numerical data. It is a like a grid of homogenous\n",
    "values, whereas python list stores values of all data types like integer, Floats ,Strings etc.. We can say that It is a Collection of elements.\n"
   ]
  },
  {
   "cell_type": "markdown",
   "id": "8f5b8f66",
   "metadata": {},
   "source": [
    "# Lets create an Array and Python List"
   ]
  },
  {
   "cell_type": "code",
   "execution_count": 9,
   "id": "6bb0f0b8",
   "metadata": {},
   "outputs": [
    {
     "name": "stdout",
     "output_type": "stream",
     "text": [
      "Array :  [1 2 3 4 5]\n",
      "List :  [1, 2, 3, 4, 5]\n"
     ]
    }
   ],
   "source": [
    "import numpy as np\n",
    "array = np.array([1,2,3,4,5])\n",
    "list = [1,2,3,4,5]\n",
    "\n",
    "print(\"Array : \",array)\n",
    "print(\"List : \",list)"
   ]
  },
  {
   "cell_type": "markdown",
   "id": "35e7283c",
   "metadata": {},
   "source": [
    "Here as we have observed we got the same output right ?  I knew you gotcha a question in your head then what is the difference between Array and Python List"
   ]
  },
  {
   "cell_type": "markdown",
   "id": "ff9c5c5a",
   "metadata": {},
   "source": [
    "# Advantage of Numpy Array Over Python Lists "
   ]
  },
  {
   "cell_type": "markdown",
   "id": "955c2a0f",
   "metadata": {},
   "source": [
    "Numpy Array give a fast and efficient way of manipulating and working with Numerical data as compared to python list.\n",
    "Following factors make Numpy Arrays better than python list while dealing with neurical data:\n",
    "\n",
    "1. Performing Mathematical operations : The data types of values stored in arrays is homogenous so it is easy to perform mathematical operations such as element-wise addition,Multiplication and dot products.\n",
    "\n",
    "So lets do one Example \n"
   ]
  },
  {
   "cell_type": "code",
   "execution_count": 12,
   "id": "928423a6",
   "metadata": {},
   "outputs": [
    {
     "name": "stdout",
     "output_type": "stream",
     "text": [
      "Sum : [ 6  8 10 12]\n",
      "Dot Product : 70\n"
     ]
    }
   ],
   "source": [
    "a = np.array([1,2,3,4])\n",
    "b = np.array([5,6,7,8])\n",
    "\n",
    "print(\"Sum :\",a+b)\n",
    "\n",
    "#dot product\n",
    "\n",
    "print(\"Dot Product :\",np.dot(a,b))"
   ]
  },
  {
   "cell_type": "markdown",
   "id": "bb7709ce",
   "metadata": {},
   "source": [
    "2. Performance : Numpy arrays are much faster than python lists when it comes to Mathematical operations. Ths is because Numpy arrays are implemented in C and python lists are implemented in Python it can be much slower when it compared to C which is nothing about Arrays.\n",
    "\n",
    "Lets determine the memory Usage of both"
   ]
  },
  {
   "cell_type": "code",
   "execution_count": 15,
   "id": "033a3503",
   "metadata": {},
   "outputs": [
    {
     "name": "stdout",
     "output_type": "stream",
     "text": [
      "Memory Usage of Array : 16\n",
      "Memory usage of Lists : 88\n"
     ]
    }
   ],
   "source": [
    "import sys\n",
    "\n",
    "Array = np.array([1,2,3,4])\n",
    "Lists = [1,2,3,4]\n",
    "\n",
    "print(\"Memory Usage of Array :\", Array.nbytes)\n",
    "print(\"Memory usage of Lists :\",sys.getsizeof(Lists))"
   ]
  },
  {
   "cell_type": "markdown",
   "id": "81d9f67a",
   "metadata": {},
   "source": [
    "# Compatability with Other Libraries"
   ]
  },
  {
   "cell_type": "markdown",
   "id": "240064e3",
   "metadata": {},
   "source": [
    "Numpy arrays are widely used in Scientific computing and Machine Learning, and Many other libraries such as Pandas and Tensorflow support numpy arrays.\n",
    "\n",
    "This Means that you can easily integrate Numpy arrays into your Workflow"
   ]
  },
  {
   "cell_type": "markdown",
   "id": "1b4efd59",
   "metadata": {},
   "source": [
    "# When to Use What ?\n"
   ]
  },
  {
   "cell_type": "markdown",
   "id": "e8cc84d1",
   "metadata": {},
   "source": [
    "Numpy Arrays are better suited for numerical computations and that require vectorization (Operations on Array of Numbers). It provides a more efficient and Convenient representation of numerical data compared to python lists.\n",
    "\n",
    "on the Other hand, It doesn't mean that we should not use lists instead of Numpy arrays. We can use lists while we are working with less number of data. Lists are more flexible an can store a variety of data types,including non - numerical like strings and objects. "
   ]
  },
  {
   "cell_type": "markdown",
   "id": "080b971f",
   "metadata": {},
   "source": [
    "# Creation of Arrays "
   ]
  },
  {
   "cell_type": "markdown",
   "id": "81fa9fc1",
   "metadata": {},
   "source": [
    "There are two main general mechanism of creating arrays.\n",
    "1.  Converting Python sequence to Numpy Arrays :\n",
    "    \n",
    "    Numpy arrays can be created from various python sequences such as lists and tuples, where python lists are defined using square brackets\n",
    "    eg : [1,2,3,4] and parenthesis for tuples eg: (1,2,3,4). These sequences can be used to create Numpy ndarrays with different\n",
    "    dimension.\n",
    "    \n",
    "    An object created Numpy is referred to as an ndarray, where the \"nd\" stands for \"n-dimensional\". This Terminology is used to \n",
    "    differentiate numpy arrays from standard python sequences such as lists and tuples.\n",
    "    \n",
    "2.  Array Creation Function :\n",
    "    \n",
    "    Numpy Provides several functions for creating arrays with specific value or Patterns.\n",
    "    \n",
    "    np.zeros : Creates an Array filled with Zeros\n",
    "    np.ones  : Creates an Array filled with Ones.\n",
    "    np.empty : creates an Array without initializing its Value\n",
    "    np.arange : creates an Array with specified range of values in a Interval\n",
    "    np.linspace : creates an Array with a specified number of logarthmically spaced values within a specified intervals.\n",
    "    np.full() : Creates an Array of specified shape and fills it with a specified value.\n",
    "    np.eye() : Creates an Identify matrix, which is a square matrix with ones on the diagnol and zeros elsewhere."
   ]
  },
  {
   "cell_type": "markdown",
   "id": "f11aa331",
   "metadata": {},
   "source": [
    "# Lets create an Array "
   ]
  },
  {
   "cell_type": "code",
   "execution_count": 22,
   "id": "77ded0c8",
   "metadata": {},
   "outputs": [
    {
     "name": "stdout",
     "output_type": "stream",
     "text": [
      "List into Arr : [1 2 3 4]\n",
      "Tuple into Arr :  [1 2 3]\n"
     ]
    }
   ],
   "source": [
    "import numpy as np\n",
    "\n",
    "#converting list into Numpy Array\n",
    "\n",
    "List = [1,2,3,4]\n",
    "Arr = np.array(List)\n",
    "print(\"List into Arr :\", Arr)\n",
    "\n",
    "#converting Tuple to Numpy Array\n",
    ",\n",
    "Tuple = (1,2,3)\n",
    "ARR = np.array(Tuple)\n",
    "\n",
    "print(\"Tuple into Arr : \",ARR)"
   ]
  },
  {
   "cell_type": "markdown",
   "id": "85763d9e",
   "metadata": {},
   "source": [
    "#Lets Create 2d Array"
   ]
  },
  {
   "cell_type": "code",
   "execution_count": 23,
   "id": "6dddf091",
   "metadata": {},
   "outputs": [
    {
     "data": {
      "text/plain": [
       "array([[1, 2, 3],\n",
       "       [4, 5, 6]])"
      ]
     },
     "execution_count": 23,
     "metadata": {},
     "output_type": "execute_result"
    }
   ],
   "source": [
    "array2 = np.array([[1,2,3],[4,5,6]])\n",
    "array2"
   ]
  },
  {
   "cell_type": "code",
   "execution_count": 24,
   "id": "3f36f798",
   "metadata": {},
   "outputs": [],
   "source": [
    "#lets Create 3d array"
   ]
  },
  {
   "cell_type": "code",
   "execution_count": 26,
   "id": "c8c1cce7",
   "metadata": {},
   "outputs": [
    {
     "data": {
      "text/plain": [
       "array([[[1, 2],\n",
       "        [3, 4]],\n",
       "\n",
       "       [[5, 6],\n",
       "        [7, 8]]])"
      ]
     },
     "execution_count": 26,
     "metadata": {},
     "output_type": "execute_result"
    }
   ],
   "source": [
    "array3 = np.array([[[1,2],[3,4]],[[5,6],[7,8]]])\n",
    "array3"
   ]
  },
  {
   "cell_type": "code",
   "execution_count": 28,
   "id": "3cd70ae2",
   "metadata": {},
   "outputs": [
    {
     "data": {
      "text/plain": [
       "3"
      ]
     },
     "execution_count": 28,
     "metadata": {},
     "output_type": "execute_result"
    }
   ],
   "source": [
    "array3.ndim # T0 check how many dimensions are there"
   ]
  },
  {
   "cell_type": "markdown",
   "id": "93840111",
   "metadata": {},
   "source": [
    "np.zeros : Creates an Array filled with Zeros np.ones"
   ]
  },
  {
   "cell_type": "code",
   "execution_count": 29,
   "id": "2e13e28a",
   "metadata": {},
   "outputs": [
    {
     "data": {
      "text/plain": [
       "array([[0., 0., 0., 0.],\n",
       "       [0., 0., 0., 0.]])"
      ]
     },
     "execution_count": 29,
     "metadata": {},
     "output_type": "execute_result"
    }
   ],
   "source": [
    "np.zeros((2,4))"
   ]
  },
  {
   "cell_type": "markdown",
   "id": "00eb43eb",
   "metadata": {},
   "source": [
    "np.ones : Creates an Array filled with Ones"
   ]
  },
  {
   "cell_type": "code",
   "execution_count": 30,
   "id": "1d5919e4",
   "metadata": {},
   "outputs": [
    {
     "data": {
      "text/plain": [
       "array([[1., 1., 1., 1.],\n",
       "       [1., 1., 1., 1.],\n",
       "       [1., 1., 1., 1.]])"
      ]
     },
     "execution_count": 30,
     "metadata": {},
     "output_type": "execute_result"
    }
   ],
   "source": [
    "np.ones((3,4))"
   ]
  },
  {
   "cell_type": "markdown",
   "id": "ee5012a1",
   "metadata": {},
   "source": [
    "np.arange : creates an Array with specified range of values in a Interval"
   ]
  },
  {
   "cell_type": "code",
   "execution_count": 36,
   "id": "07ce44c1",
   "metadata": {},
   "outputs": [
    {
     "data": {
      "text/plain": [
       "array([2, 3, 4, 5, 6, 7, 8, 9])"
      ]
     },
     "execution_count": 36,
     "metadata": {},
     "output_type": "execute_result"
    }
   ],
   "source": [
    "a = np.arange(2,10) # Here we have started the Parameters\n",
    "a"
   ]
  },
  {
   "cell_type": "code",
   "execution_count": 35,
   "id": "3aceeb3a",
   "metadata": {},
   "outputs": [
    {
     "data": {
      "text/plain": [
       "array([2, 4, 6, 8])"
      ]
     },
     "execution_count": 35,
     "metadata": {},
     "output_type": "execute_result"
    }
   ],
   "source": [
    "a = np.arange(2,10,2) #Here we have given interval of 2\n",
    "a"
   ]
  },
  {
   "cell_type": "markdown",
   "id": "4b9caf1c",
   "metadata": {},
   "source": [
    "np.linspace : creates an Array with a specified number of logarthmically spaced values within a specified intervals."
   ]
  },
  {
   "cell_type": "code",
   "execution_count": 39,
   "id": "2634a667",
   "metadata": {},
   "outputs": [
    {
     "data": {
      "text/plain": [
       "array([1.        , 1.44444444, 1.88888889, 2.33333333, 2.77777778,\n",
       "       3.22222222, 3.66666667, 4.11111111, 4.55555556, 5.        ])"
      ]
     },
     "execution_count": 39,
     "metadata": {},
     "output_type": "execute_result"
    }
   ],
   "source": [
    "np.linspace(1,5,10)"
   ]
  },
  {
   "cell_type": "markdown",
   "id": "4ad82354",
   "metadata": {},
   "source": [
    "In this example, start is 1, stop is 5, and num is 10. Therefore, np.linspace generates an array with 10 equally spaced values between 1 and 5 (inclusive)"
   ]
  },
  {
   "cell_type": "markdown",
   "id": "cca8da37",
   "metadata": {},
   "source": [
    " np.full() : Creates an Array of specified shape and fills it with a specified value. np.full is useful when you want to create an array of a specific shape and initialize it with a constant value."
   ]
  },
  {
   "cell_type": "code",
   "execution_count": 40,
   "id": "b44ddb60",
   "metadata": {},
   "outputs": [
    {
     "data": {
      "text/plain": [
       "array([[6, 6, 6, 6],\n",
       "       [6, 6, 6, 6],\n",
       "       [6, 6, 6, 6]])"
      ]
     },
     "execution_count": 40,
     "metadata": {},
     "output_type": "execute_result"
    }
   ],
   "source": [
    "np.full((3,4),6)"
   ]
  },
  {
   "cell_type": "markdown",
   "id": "e28dc611",
   "metadata": {},
   "source": [
    "np.eye() : Creates an Identify matrix, which is a square matrix with ones on the diagnol and zeros elsewhere."
   ]
  },
  {
   "cell_type": "code",
   "execution_count": 41,
   "id": "975e7b9a",
   "metadata": {},
   "outputs": [
    {
     "data": {
      "text/plain": [
       "array([[1., 0., 0., 0.],\n",
       "       [0., 1., 0., 0.],\n",
       "       [0., 0., 1., 0.]])"
      ]
     },
     "execution_count": 41,
     "metadata": {},
     "output_type": "execute_result"
    }
   ],
   "source": [
    "np.eye(3,4)"
   ]
  },
  {
   "cell_type": "markdown",
   "id": "f2c0a180",
   "metadata": {},
   "source": [
    "np.empty : Here we will get the Random Values "
   ]
  },
  {
   "cell_type": "code",
   "execution_count": 46,
   "id": "2fa8a7c3",
   "metadata": {},
   "outputs": [
    {
     "data": {
      "text/plain": [
       "array([[1053929728,        573, 1053928128],\n",
       "       [       573, 1053922176,        573]])"
      ]
     },
     "execution_count": 46,
     "metadata": {},
     "output_type": "execute_result"
    }
   ],
   "source": [
    "empty = np.empty([2,3],dtype = int)\n",
    "empty"
   ]
  },
  {
   "cell_type": "markdown",
   "id": "baa2e9c6",
   "metadata": {},
   "source": [
    "# Basic Operations"
   ]
  },
  {
   "cell_type": "markdown",
   "id": "379daab7",
   "metadata": {},
   "source": [
    "Here We will do some basic operations Including Addition, Subtraction, multlipliaction etc.."
   ]
  },
  {
   "cell_type": "markdown",
   "id": "0012450b",
   "metadata": {},
   "source": [
    "# Arithmetic Operations"
   ]
  },
  {
   "cell_type": "code",
   "execution_count": 50,
   "id": "1a93b476",
   "metadata": {},
   "outputs": [
    {
     "name": "stdout",
     "output_type": "stream",
     "text": [
      "[ 4  6  8 10 12]\n",
      "[-2 -2 -2 -2 -2]\n",
      "[ 3  8 15 24 35]\n",
      "[0.33333333 0.5        0.6        0.66666667 0.71428571]\n",
      "[1 2 3 4 5]\n",
      "[    1    16   243  4096 78125]\n",
      "32\n"
     ]
    }
   ],
   "source": [
    "import numpy as np\n",
    "a = np.array([1,2,3,4,5])\n",
    "b = np.array([3,4,5,6,7])\n",
    "\n",
    "#addition\n",
    "print(a+b)\n",
    "#subtraction\n",
    "print(a-b)\n",
    "#Multiplication\n",
    "print(a*b)\n",
    "#Division\n",
    "print(a/b)\n",
    "#modulo\n",
    "print(a%b)\n",
    "#exponentiation\n",
    "print(a**b)\n",
    "#Matrix Multiplication\n",
    "c = np.array([1,2,3])\n",
    "d = np.array([4,5,6])\n",
    "print(np.dot(c,d))\n"
   ]
  },
  {
   "cell_type": "markdown",
   "id": "81b918b1",
   "metadata": {},
   "source": [
    "#Trignometric Functions \n",
    "\n",
    "If we want to get the trignometric Functions. Firstly, we need to change degree to Radians. After that again we need to Convert the degree Values to radians. Lets see how it will be \n"
   ]
  },
  {
   "cell_type": "code",
   "execution_count": 52,
   "id": "0b1cd6c0",
   "metadata": {},
   "outputs": [],
   "source": [
    "trig1 = np.array([0,30,45,60,90])\n",
    "trig2 = np.deg2rad(trig1)"
   ]
  },
  {
   "cell_type": "code",
   "execution_count": 55,
   "id": "1d53dc70",
   "metadata": {},
   "outputs": [
    {
     "name": "stdout",
     "output_type": "stream",
     "text": [
      "Cos Values is :  [1.00000000e+00 8.66025404e-01 7.07106781e-01 5.00000000e-01\n",
      " 6.12323400e-17]\n",
      "Sin Values is :  [0.         0.5        0.70710678 0.8660254  1.        ]\n"
     ]
    }
   ],
   "source": [
    "print(\"Cos Values is : \",np.cos(trig2))\n",
    "print(\"Sin Values is : \",np.sin(trig2))"
   ]
  },
  {
   "cell_type": "markdown",
   "id": "070c5a1f",
   "metadata": {},
   "source": [
    "#Logarthmic Functions"
   ]
  },
  {
   "cell_type": "code",
   "execution_count": 56,
   "id": "ea7319ed",
   "metadata": {},
   "outputs": [
    {
     "name": "stdout",
     "output_type": "stream",
     "text": [
      "[0.         0.69314718 1.09861229 1.38629436 1.60943791]\n",
      "[0.         0.30103    0.47712125 0.60205999 0.69897   ]\n"
     ]
    }
   ],
   "source": [
    "print(np.log(a))\n",
    "print(np.log10(a))"
   ]
  },
  {
   "cell_type": "markdown",
   "id": "6178dd6a",
   "metadata": {},
   "source": [
    "#Bitwise Operators"
   ]
  },
  {
   "cell_type": "code",
   "execution_count": 57,
   "id": "be902f9f",
   "metadata": {},
   "outputs": [],
   "source": [
    "bit1 = np.array([1,2,3,4],dtype = np.uint8)\n",
    "bit2 = np.array([5,6,7,8],dtype = np.uint8)"
   ]
  },
  {
   "cell_type": "code",
   "execution_count": 58,
   "id": "5a6fa8e8",
   "metadata": {},
   "outputs": [
    {
     "name": "stdout",
     "output_type": "stream",
     "text": [
      "Bitwise and  : [1 2 3 0]\n"
     ]
    }
   ],
   "source": [
    "print(\"Bitwise and  :\", np.bitwise_and(bit1,bit2))"
   ]
  },
  {
   "cell_type": "code",
   "execution_count": 59,
   "id": "626ed4bd",
   "metadata": {},
   "outputs": [
    {
     "name": "stdout",
     "output_type": "stream",
     "text": [
      "Bitwise Or  : [ 5  6  7 12]\n"
     ]
    }
   ],
   "source": [
    "#Simultaneously, We can check Bitwise_Or as well\n",
    "print(\"Bitwise Or  :\", np.bitwise_or(bit1,bit2))"
   ]
  },
  {
   "cell_type": "markdown",
   "id": "7c17a34c",
   "metadata": {},
   "source": [
    "# Comparison Operators"
   ]
  },
  {
   "cell_type": "code",
   "execution_count": 61,
   "id": "37881e53",
   "metadata": {},
   "outputs": [
    {
     "name": "stdout",
     "output_type": "stream",
     "text": [
      "[False False False False False]\n",
      "[False False False False False]\n",
      "[ True  True  True  True  True]\n",
      "[ True  True  True  True  True]\n",
      "[False False False False False]\n",
      "[ True  True  True  True  True]\n"
     ]
    }
   ],
   "source": [
    "print(a==b)\n",
    "print(a>b)\n",
    "print(a<b)\n",
    "print(a!=b)\n",
    "print(a>=b)\n",
    "print(a<=b)"
   ]
  },
  {
   "cell_type": "markdown",
   "id": "625cd9e9",
   "metadata": {},
   "source": [
    "NOTE : Its not a element check and completely Array check"
   ]
  },
  {
   "cell_type": "markdown",
   "id": "5d568dd1",
   "metadata": {},
   "source": [
    "# Aggregate Functions"
   ]
  },
  {
   "cell_type": "code",
   "execution_count": 74,
   "id": "878e1a0e",
   "metadata": {},
   "outputs": [
    {
     "name": "stdout",
     "output_type": "stream",
     "text": [
      "15\n",
      "3.0\n",
      "3.0\n",
      "1.4142135623730951\n",
      "2.0\n",
      "5\n",
      "1\n",
      "[1 2 3 4 5]\n"
     ]
    }
   ],
   "source": [
    "#sum\n",
    "print(np.sum(a))\n",
    "#mean\n",
    "print(np.mean(a))\n",
    "#median\n",
    "print(np.median(a))\n",
    "#Standard deviation\n",
    "print(np.std(a))\n",
    "#Variance\n",
    "print(np.var(a))\n",
    "#Maximum\n",
    "print(np.amax(a))\n",
    "#Minimum\n",
    "print(np.amin(a))\n",
    "#sorting Operations\n",
    "print(np.sort(a))"
   ]
  },
  {
   "cell_type": "markdown",
   "id": "a1c8ae40",
   "metadata": {},
   "source": [
    "# Indexing and Slicing"
   ]
  },
  {
   "cell_type": "markdown",
   "id": "8882b9d4",
   "metadata": {},
   "source": [
    "Indexing and Slicing are fundamental concepts in working with Arrays in Numpy.\n",
    "Indexing is the process of accessig individual elements of an array.\n",
    "Slicing is the process of accessing a subarray or a subset of elements with an Array."
   ]
  },
  {
   "cell_type": "code",
   "execution_count": 75,
   "id": "72495b33",
   "metadata": {},
   "outputs": [
    {
     "data": {
      "text/plain": [
       "array([1, 2, 3, 5, 7, 9])"
      ]
     },
     "execution_count": 75,
     "metadata": {},
     "output_type": "execute_result"
    }
   ],
   "source": [
    "#Indexing\n",
    "\n",
    "import numpy as np\n",
    "a = np.array([1,2,3,5,7,9])\n",
    "a"
   ]
  },
  {
   "cell_type": "code",
   "execution_count": 76,
   "id": "787793f5",
   "metadata": {},
   "outputs": [
    {
     "data": {
      "text/plain": [
       "5"
      ]
     },
     "execution_count": 76,
     "metadata": {},
     "output_type": "execute_result"
    }
   ],
   "source": [
    "a[3] # Index always starts from '0'."
   ]
  },
  {
   "cell_type": "code",
   "execution_count": 77,
   "id": "bbe2a109",
   "metadata": {},
   "outputs": [
    {
     "data": {
      "text/plain": [
       "array([[1, 2],\n",
       "       [3, 4]])"
      ]
     },
     "execution_count": 77,
     "metadata": {},
     "output_type": "execute_result"
    }
   ],
   "source": [
    "b = np.array([[1,2],[3,4]])\n",
    "b"
   ]
  },
  {
   "cell_type": "code",
   "execution_count": 78,
   "id": "89237826",
   "metadata": {},
   "outputs": [
    {
     "data": {
      "text/plain": [
       "2"
      ]
     },
     "execution_count": 78,
     "metadata": {},
     "output_type": "execute_result"
    }
   ],
   "source": [
    "b[0][1] # Here [1,2] refers to 0 Index and [3,4] refers to First Index Number "
   ]
  },
  {
   "cell_type": "code",
   "execution_count": 80,
   "id": "e8060805",
   "metadata": {},
   "outputs": [
    {
     "data": {
      "text/plain": [
       "array([ 0,  1,  2,  3,  0, 17, 18])"
      ]
     },
     "execution_count": 80,
     "metadata": {},
     "output_type": "execute_result"
    }
   ],
   "source": [
    "#A Boolean Index\n",
    "\n",
    "#Filtering the Values, based upon desire result.\n",
    "\n",
    "x = np.array([1,2,3,4,1,18,19])\n",
    "x[x!=1]\n",
    "x=x-1\n",
    "x"
   ]
  },
  {
   "cell_type": "code",
   "execution_count": 87,
   "id": "64d95888",
   "metadata": {},
   "outputs": [
    {
     "data": {
      "text/plain": [
       "array([3, 4])"
      ]
     },
     "execution_count": 87,
     "metadata": {},
     "output_type": "execute_result"
    }
   ],
   "source": [
    "#Slicing\n",
    "\n",
    "c = np.array([1,2,3,4,5])\n",
    "c[2:4:1]"
   ]
  },
  {
   "cell_type": "markdown",
   "id": "87e2e318",
   "metadata": {},
   "source": [
    "# Reshaping, Splitting and Stacking of Array"
   ]
  },
  {
   "cell_type": "markdown",
   "id": "c41bb98c",
   "metadata": {},
   "source": [
    "These Opeartions allow us to modify the shape and structure of array, and it can be useful in a variety of situations in data preprocessing\n",
    "and analysis. Reshaping, splitting and stacking arrays are important in Numpy that enable us to perform a wide range of computations and \n",
    "data manipulations."
   ]
  },
  {
   "cell_type": "markdown",
   "id": "c0fd96d0",
   "metadata": {},
   "source": [
    "Reshaping : It is the process of converting an Numpy array into a different shape without changing its data.\n"
   ]
  },
  {
   "cell_type": "markdown",
   "id": "ddfb4079",
   "metadata": {},
   "source": [
    "Splitting : It is the Process of diving array into smaller arrays along one or more axes.\n"
   ]
  },
  {
   "cell_type": "markdown",
   "id": "d34ad3c3",
   "metadata": {},
   "source": [
    "\n",
    "Stacking : It is the process of combining two or more numpy Arrays into a Single Array along a new Axis\n",
    "    \n"
   ]
  },
  {
   "cell_type": "markdown",
   "id": "ba9f14d7",
   "metadata": {},
   "source": [
    "These three operations are very Important for Data Analyis and Data Transformation\n"
   ]
  },
  {
   "cell_type": "raw",
   "id": "d444eb41",
   "metadata": {},
   "source": [
    "Reshaping"
   ]
  },
  {
   "cell_type": "code",
   "execution_count": 92,
   "id": "1e732c50",
   "metadata": {},
   "outputs": [
    {
     "data": {
      "text/plain": [
       "array([[1, 2, 3, 4],\n",
       "       [5, 6, 7, 8]])"
      ]
     },
     "execution_count": 92,
     "metadata": {},
     "output_type": "execute_result"
    }
   ],
   "source": [
    "a = np.array([[1,2,3,4],[5,6,7,8]])\n",
    "a"
   ]
  },
  {
   "cell_type": "code",
   "execution_count": 95,
   "id": "204d4a27",
   "metadata": {},
   "outputs": [
    {
     "data": {
      "text/plain": [
       "array([[1, 2],\n",
       "       [3, 4],\n",
       "       [5, 6],\n",
       "       [7, 8]])"
      ]
     },
     "execution_count": 95,
     "metadata": {},
     "output_type": "execute_result"
    }
   ],
   "source": [
    "b = a.reshape(4,2)\n",
    "b"
   ]
  },
  {
   "cell_type": "markdown",
   "id": "5b046b4f",
   "metadata": {},
   "source": [
    "Here while reshaping, Please make sure that it should level the size, which is nothing but numbers in simple Mathematical Terms"
   ]
  },
  {
   "cell_type": "markdown",
   "id": "ef054296",
   "metadata": {},
   "source": [
    "Splitting"
   ]
  },
  {
   "cell_type": "code",
   "execution_count": 97,
   "id": "38a3100a",
   "metadata": {},
   "outputs": [
    {
     "data": {
      "text/plain": [
       "array([[1, 2, 3, 4],\n",
       "       [5, 6, 7, 8]])"
      ]
     },
     "execution_count": 97,
     "metadata": {},
     "output_type": "execute_result"
    }
   ],
   "source": [
    "a"
   ]
  },
  {
   "cell_type": "code",
   "execution_count": 100,
   "id": "da4496b2",
   "metadata": {},
   "outputs": [],
   "source": [
    "b = np.split(a,2)"
   ]
  },
  {
   "cell_type": "code",
   "execution_count": 101,
   "id": "c7f4ed41",
   "metadata": {},
   "outputs": [
    {
     "data": {
      "text/plain": [
       "[array([[1, 2, 3, 4]]), array([[5, 6, 7, 8]])]"
      ]
     },
     "execution_count": 101,
     "metadata": {},
     "output_type": "execute_result"
    }
   ],
   "source": [
    "b"
   ]
  },
  {
   "cell_type": "raw",
   "id": "20bddfcc",
   "metadata": {},
   "source": [
    "Stacking\n"
   ]
  },
  {
   "cell_type": "code",
   "execution_count": 106,
   "id": "de6c0b39",
   "metadata": {},
   "outputs": [
    {
     "name": "stdout",
     "output_type": "stream",
     "text": [
      "[[1 2 3 4]\n",
      " [5 6 7 8]]\n",
      "[1 2 3 4 5 6 7 8]\n"
     ]
    }
   ],
   "source": [
    "a = np.array([1,2,3,4])\n",
    "b = np.array([5,6,7,8])\n",
    "c = np.vstack((a,b))\n",
    "d = np.hstack((a,b))\n",
    "print(c)\n",
    "print(d)"
   ]
  },
  {
   "cell_type": "raw",
   "id": "9e165704",
   "metadata": {},
   "source": [
    "Concatenation"
   ]
  },
  {
   "cell_type": "code",
   "execution_count": 113,
   "id": "52a084bb",
   "metadata": {},
   "outputs": [
    {
     "data": {
      "text/plain": [
       "array([1, 2, 3, 7, 8, 9])"
      ]
     },
     "execution_count": 113,
     "metadata": {},
     "output_type": "execute_result"
    }
   ],
   "source": [
    "a = np.array([1,2,3])\n",
    "b = np.array([7,8,9])\n",
    "c = np.concatenate((a,b),axis =0)\n",
    "c"
   ]
  },
  {
   "cell_type": "markdown",
   "id": "2f0a297e",
   "metadata": {},
   "source": [
    "all the input arrays must have same number of dimensions"
   ]
  },
  {
   "cell_type": "raw",
   "id": "bc267ed2",
   "metadata": {},
   "source": [
    "Transpose"
   ]
  },
  {
   "cell_type": "code",
   "execution_count": 116,
   "id": "ef3373aa",
   "metadata": {},
   "outputs": [
    {
     "data": {
      "text/plain": [
       "array([[1, 2, 3],\n",
       "       [3, 4, 5],\n",
       "       [6, 7, 8],\n",
       "       [9, 1, 2]])"
      ]
     },
     "execution_count": 116,
     "metadata": {},
     "output_type": "execute_result"
    }
   ],
   "source": [
    "a = np.array([[1,2,3],[3,4,5],[6,7,8],[9,1,2]])\n",
    "a"
   ]
  },
  {
   "cell_type": "code",
   "execution_count": 122,
   "id": "50529ee7",
   "metadata": {},
   "outputs": [
    {
     "data": {
      "text/plain": [
       "(4, 3)"
      ]
     },
     "execution_count": 122,
     "metadata": {},
     "output_type": "execute_result"
    }
   ],
   "source": [
    "a.shape"
   ]
  },
  {
   "cell_type": "code",
   "execution_count": 118,
   "id": "7d9de943",
   "metadata": {},
   "outputs": [
    {
     "data": {
      "text/plain": [
       "2"
      ]
     },
     "execution_count": 118,
     "metadata": {},
     "output_type": "execute_result"
    }
   ],
   "source": [
    "a.ndim"
   ]
  },
  {
   "cell_type": "code",
   "execution_count": 127,
   "id": "baf520ca",
   "metadata": {},
   "outputs": [
    {
     "data": {
      "text/plain": [
       "array([[1, 3, 6, 9],\n",
       "       [2, 4, 7, 1],\n",
       "       [3, 5, 8, 2]])"
      ]
     },
     "execution_count": 127,
     "metadata": {},
     "output_type": "execute_result"
    }
   ],
   "source": [
    "b = a.transpose()\n",
    "b"
   ]
  },
  {
   "cell_type": "code",
   "execution_count": 126,
   "id": "51d8d226",
   "metadata": {},
   "outputs": [
    {
     "data": {
      "text/plain": [
       "(3, 4)"
      ]
     },
     "execution_count": 126,
     "metadata": {},
     "output_type": "execute_result"
    }
   ],
   "source": [
    "b.shape"
   ]
  },
  {
   "cell_type": "markdown",
   "id": "ec9e2fe2",
   "metadata": {},
   "source": [
    "# BroadCasting"
   ]
  },
  {
   "cell_type": "markdown",
   "id": "2eccdb08",
   "metadata": {},
   "source": [
    "BroadCasting is a feature in the Numpy Library in python that allow for arithmetic operations between array of different shapes"
   ]
  },
  {
   "cell_type": "markdown",
   "id": "0f16e7e2",
   "metadata": {},
   "source": [
    "The smaller Array is broadcasted across the larger array so that they have Compatible Shapes. Broadcasting solves the problem of compatiblity in shape between arrays of different dimensions during arithmetic operations."
   ]
  },
  {
   "cell_type": "markdown",
   "id": "c3ff7177",
   "metadata": {},
   "source": [
    "Broadcasting provides a means of vectorizing array operations so that looping occurs in C instead of python"
   ]
  },
  {
   "cell_type": "code",
   "execution_count": 131,
   "id": "cdf402ca",
   "metadata": {},
   "outputs": [
    {
     "data": {
      "text/plain": [
       "array([ 2.,  4.,  6.,  8., 10., 12.])"
      ]
     },
     "execution_count": 131,
     "metadata": {},
     "output_type": "execute_result"
    }
   ],
   "source": [
    "a = np.array([1,2,3,4,5,6])\n",
    "b =  2.0\n",
    "c = a*b\n",
    "c"
   ]
  },
  {
   "cell_type": "raw",
   "id": "9c25a401",
   "metadata": {},
   "source": [
    "Generic Rules of Broadcasting"
   ]
  },
  {
   "cell_type": "markdown",
   "id": "7e5452c9",
   "metadata": {},
   "source": [
    "1. Axes must be aligned. If the array have different number of dimensions, the shape of the Smaller Array will be padded with ones on the left"
   ]
  },
  {
   "cell_type": "code",
   "execution_count": 142,
   "id": "1a9ddee3",
   "metadata": {},
   "outputs": [
    {
     "data": {
      "text/plain": [
       "array([[ 1,  2,  3,  4],\n",
       "       [ 2,  4,  6,  8],\n",
       "       [ 3,  6,  9, 12]])"
      ]
     },
     "execution_count": 142,
     "metadata": {},
     "output_type": "execute_result"
    }
   ],
   "source": [
    "a = np.array([1,2,3,4])\n",
    "b = np.array([[1],[2],[3]])\n",
    "c = a*b\n",
    "c"
   ]
  },
  {
   "cell_type": "markdown",
   "id": "8e78c7af",
   "metadata": {},
   "source": [
    "2. The Size in each dimension must either be equal or one of them must be one.\n",
    "   If the size in a particular dimension does not match and neither is one, then a valueerror will be raised.\n",
    "    \n",
    "    "
   ]
  },
  {
   "cell_type": "code",
   "execution_count": 140,
   "id": "b72d7f16",
   "metadata": {},
   "outputs": [],
   "source": [
    "import numpy as np\n",
    "\n",
    "# Broadcasting example\n",
    "a = np.array([[1, 2, 3]])  # Shape: (1, 3)\n",
    "b = np.array([[4], [5]])  # Shape: (2, 1)\n",
    "\n",
    "# Attempting to broadcast arrays with incompatible shapes\n",
    "result = a + b  # Raises a ValueError\n"
   ]
  },
  {
   "cell_type": "code",
   "execution_count": 141,
   "id": "5f585c70",
   "metadata": {},
   "outputs": [
    {
     "data": {
      "text/plain": [
       "array([[5, 6, 7],\n",
       "       [6, 7, 8]])"
      ]
     },
     "execution_count": 141,
     "metadata": {},
     "output_type": "execute_result"
    }
   ],
   "source": [
    "result"
   ]
  },
  {
   "cell_type": "markdown",
   "id": "60438027",
   "metadata": {},
   "source": [
    "The shape of array a is (1, 3), which means it has one row and three columns. The shape of array b is (2, 1), indicating two rows and one column.\n",
    "\n",
    "Now, let's compare the sizes of the dimensions:\n",
    "\n",
    "For array a, the first dimension (rows) has a size of 1.\n",
    "For array b, the first dimension (rows) has a size of 2.\n",
    "The first dimension sizes are not the same, but according to the broadcasting rules, they can still be compatible. This is because one of the dimensions has a size of 1, which satisfies the broadcasting criteria.\n",
    "\n",
    "The second dimension (columns) is where the sizes are being compared:\n",
    "\n",
    "For array a, the second dimension (columns) has a size of 3.\n",
    "For array b, the second dimension (columns) has a size of 1.\n",
    "In this case, the size of the second dimension in array b is 1, which satisfies the broadcasting criteria. The broadcasting rules allow this dimension to be extended to match the size of the corresponding dimension in array a, which is 3.\n",
    "\n",
    "Therefore, the sizes of the second dimension in a and b do match the broadcasting criteria, and broadcasting can be performed."
   ]
  },
  {
   "cell_type": "markdown",
   "id": "05e17ac8",
   "metadata": {},
   "source": [
    "3. Broadcasting Occurs along the first dimension\n",
    "   If an array has size 1 in a particular dimension and the other array has a size greater than 1, then the smaller array's shape\n",
    "   is broadcast to match the Larger Array "
   ]
  },
  {
   "cell_type": "markdown",
   "id": "754f6bdd",
   "metadata": {},
   "source": [
    "Limitations:\n",
    "    "
   ]
  },
  {
   "cell_type": "markdown",
   "id": "4bfa3b59",
   "metadata": {},
   "source": [
    "1. Broadcasting only works for arrays with a lower dimension to an array with Higher dimension, not vice versa"
   ]
  },
  {
   "cell_type": "markdown",
   "id": "3b19e332",
   "metadata": {},
   "source": [
    "2. Broadcasting can only add or multiply a scalar to an array, It Cannot perform Subtraction and Division"
   ]
  },
  {
   "cell_type": "markdown",
   "id": "66e9286f",
   "metadata": {},
   "source": [
    "# Plotting Numpy Arrays "
   ]
  },
  {
   "cell_type": "markdown",
   "id": "a3998851",
   "metadata": {},
   "source": [
    "Data Visualization is the representation of data in a graphical form. which makes it easier to understand and analyze large and complex datasets"
   ]
  },
  {
   "cell_type": "markdown",
   "id": "49307394",
   "metadata": {},
   "source": [
    "1. Matplotlib : It is  a widely used for data Visualization in python. It provides a comprehensive set of tools for creating visualizations and it integrates well with numpy, making it easy to work with arrays of numerical data."
   ]
  },
  {
   "cell_type": "markdown",
   "id": "2cfce0a7",
   "metadata": {},
   "source": [
    "2. Seaborn :It provides an easy to use interface for creating visually appealing and informative plots, and it includes advanced visualization \n",
    "techniques such as heat maps, Violin plots and pair plots. Seaborn also provides built in themes and color palletes that makes it easier \n",
    "to produce aesthetically pleasing plots with a minimum amount of effort."
   ]
  },
  {
   "cell_type": "code",
   "execution_count": 1,
   "id": "5cb65e46",
   "metadata": {},
   "outputs": [
    {
     "name": "stderr",
     "output_type": "stream",
     "text": [
      "ERROR: Could not find a version that satisfies the requirement matplotlib.pyplot (from versions: none)\n",
      "ERROR: No matching distribution found for matplotlib.pyplot\n"
     ]
    },
    {
     "name": "stdout",
     "output_type": "stream",
     "text": [
      "Requirement already satisfied: seaborn in c:\\users\\91879\\anaconda3\\lib\\site-packages (0.12.2)\n"
     ]
    },
    {
     "name": "stderr",
     "output_type": "stream",
     "text": [
      "ERROR: Could not find a version that satisfies the requirement as (from versions: none)\n",
      "ERROR: No matching distribution found for as\n"
     ]
    }
   ],
   "source": [
    "#Lets Code it\n",
    "\n",
    "!pip install matplotlib.pyplot as plt\n",
    "!pip install seaborn as sb"
   ]
  },
  {
   "cell_type": "code",
   "execution_count": 2,
   "id": "79204f4b",
   "metadata": {},
   "outputs": [],
   "source": [
    "import matplotlib.pyplot as plt\n",
    "import seaborn as sb\n",
    "import numpy as np"
   ]
  },
  {
   "cell_type": "markdown",
   "id": "a85701f0",
   "metadata": {},
   "source": [
    "# Matplotlib"
   ]
  },
  {
   "cell_type": "code",
   "execution_count": 8,
   "id": "c6dc9572",
   "metadata": {},
   "outputs": [
    {
     "data": {
      "image/png": "[encoded data removed]",
      "text/plain": [
       "<Figure size 640x480 with 1 Axes>"
      ]
     },
     "metadata": {},
     "output_type": "display_data"
    }
   ],
   "source": [
    "#Lineplot\n",
    "\n",
    "x = np.linspace(1,20,5)\n",
    "y = np.sin(x)\n",
    "\n",
    "plt.plot(x,y)\n",
    "plt.xlabel(\"X - Axis\")\n",
    "plt.ylabel(\"Y - Axis\")\n",
    "plt.title(\"Line Plot\")\n",
    "plt.show()"
   ]
  },
  {
   "cell_type": "code",
   "execution_count": 16,
   "id": "0b85c8bf",
   "metadata": {},
   "outputs": [
    {
     "data": {
      "image/png": "[encoded data removed]",
      "text/plain": [
       "<Figure size 640x480 with 1 Axes>"
      ]
     },
     "metadata": {},
     "output_type": "display_data"
    }
   ],
   "source": [
    "#scatterplot\n",
    "x = np.random.rand(100)\n",
    "y = np.random.rand(100)\n",
    "plt.scatter(x,y)\n",
    "plt.xlabel(\"X - Axis\")\n",
    "plt.ylabel(\"Y - Axis\")\n",
    "plt.title(\"Scatter Plot\")\n",
    "plt.show()"
   ]
  },
  {
   "cell_type": "code",
   "execution_count": 18,
   "id": "4aecfe57",
   "metadata": {},
   "outputs": [
    {
     "data": {
      "image/png": "[encoded data removed]",
      "text/plain": [
       "<Figure size 640x480 with 1 Axes>"
      ]
     },
     "metadata": {},
     "output_type": "display_data"
    }
   ],
   "source": [
    "#histogram\n",
    "\n",
    "data = np.random.normal(100,20,1000)\n",
    "plt.hist(data,color = \"black\")\n",
    "plt.xlabel(\"Values\")\n",
    "plt.ylabel(\"Frequency\")\n",
    "plt.title(\"Histogram\")\n",
    "plt.show()"
   ]
  },
  {
   "cell_type": "markdown",
   "id": "8aaa3480",
   "metadata": {},
   "source": [
    "The first argument, 100, is the mean of the normal distribution.\n",
    "The second argument, 20, is the standard deviation of the normal distribution.\n",
    "The third argument, 1000, is the number of random numbers to generate."
   ]
  },
  {
   "cell_type": "code",
   "execution_count": 20,
   "id": "22754182",
   "metadata": {},
   "outputs": [
    {
     "data": {
      "image/png": "[encoded data removed]",
      "text/plain": [
       "<Figure size 640x480 with 1 Axes>"
      ]
     },
     "metadata": {},
     "output_type": "display_data"
    }
   ],
   "source": [
    "#Barchart\n",
    "\n",
    "x = ['A','B','C','D']\n",
    "y = [1,2,3,4]\n",
    "plt.bar(x,y)\n",
    "plt.xlabel(\"X-Axis\")\n",
    "plt.ylabel(\"Y-Axis\")\n",
    "plt.title(\"Bar Chart\")\n",
    "plt.show()"
   ]
  },
  {
   "cell_type": "code",
   "execution_count": 22,
   "id": "65a5202c",
   "metadata": {},
   "outputs": [
    {
     "data": {
      "image/png": "[encoded data removed]",
      "text/plain": [
       "<Figure size 640x480 with 1 Axes>"
      ]
     },
     "metadata": {},
     "output_type": "display_data"
    }
   ],
   "source": [
    "#Pie chart\n",
    "labels = ['A','B','C','D']\n",
    "Values = [10,20,30,40]\n",
    "plt.pie(Values,labels = labels,startangle=90,autopct = '%1.1f%%')\n",
    "plt.axis('equal')\n",
    "plt.xlabel(\"X- Axis\")\n",
    "plt.ylabel(\"Y -Axis\")\n",
    "plt.title(\"Pie Chart\")\n",
    "plt.show()"
   ]
  },
  {
   "cell_type": "code",
   "execution_count": 23,
   "id": "3bfdb5f7",
   "metadata": {},
   "outputs": [
    {
     "data": {
      "image/png": "[encoded data removed]",
      "text/plain": [
       "<Figure size 640x480 with 1 Axes>"
      ]
     },
     "metadata": {},
     "output_type": "display_data"
    }
   ],
   "source": [
    "#boxplot\n",
    "data = [np.random.normal(50,10,100),np.random.normal(80,20,100),np.random.normal(40,15,100)]\n",
    "plt.boxplot(data)\n",
    "plt.xlabel(\"Categories\")\n",
    "plt.ylabel(\"Values\")\n",
    "plt.title(\"Boxplot\")\n",
    "plt.show()"
   ]
  },
  {
   "cell_type": "markdown",
   "id": "0c803aeb",
   "metadata": {},
   "source": [
    "# Seaborn"
   ]
  },
  {
   "cell_type": "code",
   "execution_count": 26,
   "id": "4d1f8155",
   "metadata": {},
   "outputs": [
    {
     "data": {
      "image/png": "[encoded data removed]",
      "text/plain": [
       "<Figure size 640x480 with 1 Axes>"
      ]
     },
     "metadata": {},
     "output_type": "display_data"
    }
   ],
   "source": [
    "#lineplot\n",
    "\n",
    "x = np.linspace(1,20,5)\n",
    "y = np.sin(x)\n",
    "\n",
    "sb.lineplot(x=x,y=y)\n",
    "plt.show()"
   ]
  },
  {
   "cell_type": "code",
   "execution_count": 28,
   "id": "a06d186d",
   "metadata": {},
   "outputs": [
    {
     "data": {
      "image/png": "[encoded data removed]",
      "text/plain": [
       "<Figure size 1250x1250 with 30 Axes>"
      ]
     },
     "metadata": {},
     "output_type": "display_data"
    }
   ],
   "source": [
    "#pairplot\n",
    "import pandas as pd\n",
    "data = np.random.randn(100,5)\n",
    "df = pd.DataFrame(data,columns = [\"A\",\"B\",\"C\",\"D\",\"E\"])\n",
    "sb.pairplot(df)\n",
    "plt.suptitle(\"Pair plot of the Data\")\n",
    "plt.show()"
   ]
  },
  {
   "cell_type": "code",
   "execution_count": 29,
   "id": "074be88f",
   "metadata": {},
   "outputs": [
    {
     "data": {
      "image/png": "[encoded data removed]",
      "text/plain": [
       "<Figure size 640x480 with 2 Axes>"
      ]
     },
     "metadata": {},
     "output_type": "display_data"
    }
   ],
   "source": [
    "# heat Map\n",
    "data = np.random.random((10,10))\n",
    "sb.heatmap(data)\n",
    "plt.show()"
   ]
  },
  {
   "cell_type": "code",
   "execution_count": 30,
   "id": "78f3d059",
   "metadata": {},
   "outputs": [
    {
     "data": {
      "image/png": "[encoded data removed]",
      "text/plain": [
       "<Figure size 640x480 with 1 Axes>"
      ]
     },
     "metadata": {},
     "output_type": "display_data"
    }
   ],
   "source": [
    "#Violin Plot\n",
    "data = np.random.normal(0,1,100)\n",
    "sb.violinplot(data)\n",
    "plt.show()"
   ]
  },
  {
   "cell_type": "markdown",
   "id": "902c33b9",
   "metadata": {},
   "source": [
    "# Handling with Numpy Array"
   ]
  },
  {
   "cell_type": "markdown",
   "id": "77058cef",
   "metadata": {},
   "source": [
    "# I\\o handling refers to the process of inputting and outputting data to and from a computer system.This Includes reading data\n",
    "from a variety of sources, such as files or databases and writing data to different types of storage such as Harddrives or cloud storage"
   ]
  },
  {
   "cell_type": "markdown",
   "id": "e422abfc",
   "metadata": {},
   "source": [
    "I\\o Handling is a cruical ascept computer programming as it allows pprogram to Interact with the outside world and manipulate data"
   ]
  },
  {
   "cell_type": "markdown",
   "id": "60d892ff",
   "metadata": {},
   "source": [
    "Numpy Provides several functions for I\\o handling"
   ]
  },
  {
   "cell_type": "markdown",
   "id": "05a4d977",
   "metadata": {},
   "source": [
    "1. Numpy.loadtxt() : This Function is used to load data from a text file or CSV file into a numpy array."
   ]
  },
  {
   "cell_type": "markdown",
   "id": "c2bd5b8e",
   "metadata": {},
   "source": [
    "2. Numpy.genfromtxt() : This Function is used to load data from a text file or CSV file into a numpy array and it can handle more complex data structures such as missing values, variable number of cloumns etc.."
   ]
  },
  {
   "cell_type": "markdown",
   "id": "356c4320",
   "metadata": {},
   "source": [
    "3. Numpy.savetxt() : This Function is used to save data from a numpy array to a text file or a csv file."
   ]
  },
  {
   "cell_type": "markdown",
   "id": "4ee34a0e",
   "metadata": {},
   "source": [
    "4. Numpy.save() : This Function is used to save data from a Numpy array to a binary file. The data can be loaded later by using the numpy.load() function."
   ]
  },
  {
   "cell_type": "markdown",
   "id": "2ff6b7a1",
   "metadata": {},
   "source": [
    "5. Numpy.load() : This Function is used to load data from a binary file created using numpy.save()"
   ]
  },
  {
   "cell_type": "code",
   "execution_count": 33,
   "id": "0d9ec98b",
   "metadata": {},
   "outputs": [],
   "source": [
    "#saving data to Text file\n",
    "\n",
    "data = np.array([[1,2,3,4,5],[6,5,4,3,2]])\n",
    "np.savetxt(\"Data.txt\",data,delimiter = \",\")"
   ]
  },
  {
   "cell_type": "code",
   "execution_count": 34,
   "id": "5cda4364",
   "metadata": {},
   "outputs": [],
   "source": [
    "#loading data to Binary File\n",
    "loaded_data = np.loadtxt(\"datadoc.txt\",delimiter = \",\")\n",
    "np.save(\"data.npy\",data)\n",
    "loaded_data = np.load(\"data.npy\")"
   ]
  },
  {
   "cell_type": "code",
   "execution_count": 35,
   "id": "c60541d9",
   "metadata": {},
   "outputs": [],
   "source": [
    "#Compressing Arrays for Efficient Storage\n",
    "\n",
    "np.savez_compressed(\"data_compressed.npy\",data)"
   ]
  },
  {
   "cell_type": "markdown",
   "id": "cc5f1f44",
   "metadata": {},
   "source": [
    "Note : It will be saved in Our Local system please check "
   ]
  },
  {
   "cell_type": "markdown",
   "id": "63b89d29",
   "metadata": {},
   "source": [
    "# Masking"
   ]
  },
  {
   "cell_type": "markdown",
   "id": "4b74ed0c",
   "metadata": {},
   "source": [
    "Masking of Arrays in Numpy Involves creating a Boolean Mask(An array of the same shape of the Original Array, with each element being either True or False) to filter out or mmanipulate specific elements based on a condition, by using the mask to index the original Array."
   ]
  },
  {
   "cell_type": "code",
   "execution_count": 42,
   "id": "afd5b8a4",
   "metadata": {},
   "outputs": [
    {
     "data": {
      "text/plain": [
       "array([1, 2, 3, 4])"
      ]
     },
     "execution_count": 42,
     "metadata": {},
     "output_type": "execute_result"
    }
   ],
   "source": [
    "import numpy as np\n",
    "arr = np.array([1,2,3,4,5,5,7,8,9])\n",
    "Mask = arr<5\n",
    "Result = arr[Mask]\n",
    "Result"
   ]
  },
  {
   "cell_type": "markdown",
   "id": "915b2572",
   "metadata": {},
   "source": [
    "# Structured Arrays "
   ]
  },
  {
   "cell_type": "markdown",
   "id": "eb2382ca",
   "metadata": {},
   "source": [
    "Structured Ararys are nd arrays whose datatype is a composition of similar datatypes organized as a sequence of named fields"
   ]
  },
  {
   "cell_type": "markdown",
   "id": "c0c38dea",
   "metadata": {},
   "source": [
    "1. Datatypes of fields : The datatype pf each field in a structured array can be specified using the standard Numpy datatypes, such as int float, complex, bool,str, etc.. In additionn you can also use custom data types such as datetime64,timedelta64, etc.."
   ]
  },
  {
   "cell_type": "markdown",
   "id": "9258d918",
   "metadata": {},
   "source": [
    "2. Structured Arrays are nested structure, You can create nested structure with structured arrays, by specifying the datatype of a filed as another structured array. This allows you to create arrays with duplicate Fields which can be useful in certain situations"
   ]
  },
  {
   "cell_type": "markdown",
   "id": "8fe43bb1",
   "metadata": {},
   "source": [
    "3. SubArrays : You can Extract a subarray  from a structured array, just like you would extract a subarray from a regular Numpy Array. This can be useful when you only need to work with a portion of the data in a structured array."
   ]
  },
  {
   "cell_type": "markdown",
   "id": "acf07df4",
   "metadata": {},
   "source": [
    "4. Compatibility with Other Libraries : Structured Arrays in Numpy can be easily converted to and from other data formats, such as CSV, JSOn etc.. This Makes it easy to Integrate Numpy structured Arrays with Other libraries and tools."
   ]
  },
  {
   "cell_type": "code",
   "execution_count": 48,
   "id": "233e0644",
   "metadata": {},
   "outputs": [],
   "source": [
    "dt = np.dtype([('name','S10'),('age','i4'),('height','f8')])"
   ]
  },
  {
   "cell_type": "code",
   "execution_count": 58,
   "id": "5b22909e",
   "metadata": {},
   "outputs": [],
   "source": [
    "# Create with Structured Array\n",
    "\n",
    "\n",
    "people = np.array(([('John',32,1.83),('Shiva',28,1.62)]),dtype = dt)"
   ]
  },
  {
   "cell_type": "code",
   "execution_count": 59,
   "id": "9bc9c022",
   "metadata": {},
   "outputs": [
    {
     "name": "stdout",
     "output_type": "stream",
     "text": [
      "(b'John', 32, 1.83)\n",
      "b'John'\n",
      "32\n",
      "1.83\n"
     ]
    }
   ],
   "source": [
    "person = people[0]\n",
    "print(person)\n",
    "name = person['name']\n",
    "print(name)\n",
    "age = person['age']\n",
    "print(age)\n",
    "height = person['height']\n",
    "print(height)"
   ]
  },
  {
   "cell_type": "code",
   "execution_count": 60,
   "id": "4865ab1e",
   "metadata": {},
   "outputs": [],
   "source": [
    "# Calculating the Average height of all people\n",
    "avg_height = people['height'].mean()\n",
    "older_than_30 = people[people['age']>30]"
   ]
  },
  {
   "cell_type": "code",
   "execution_count": 61,
   "id": "feacbf8a",
   "metadata": {},
   "outputs": [
    {
     "name": "stdout",
     "output_type": "stream",
     "text": [
      "[(b'John', 32, 1.83)]\n"
     ]
    }
   ],
   "source": [
    "print(older_than_30)"
   ]
  },
  {
   "cell_type": "markdown",
   "id": "74bb9cd6",
   "metadata": {},
   "source": [
    "# Sorting Structured Arrays \n"
   ]
  },
  {
   "cell_type": "code",
   "execution_count": 63,
   "id": "78cfe81a",
   "metadata": {},
   "outputs": [
    {
     "name": "stdout",
     "output_type": "stream",
     "text": [
      "1.9\n"
     ]
    }
   ],
   "source": [
    "Sorted_peoples = np.sort(people,order ='age')\n",
    "#Modifying Fields\n",
    "\n",
    "people['age'] +=1\n",
    "\n",
    "#Change the height of the First Person\n",
    "\n",
    "people[0]['height']=1.90\n",
    "print(people[0]['height'])"
   ]
  },
  {
   "cell_type": "markdown",
   "id": "ad41b227",
   "metadata": {},
   "source": [
    "Thank you for watching. I hope this tutorial would be very helpful for you guys ! Please check Numpy Documentation to know more. Thank You!"
   ]
  },
  {
   "cell_type": "code",
   "execution_count": null,
   "id": "8978dec6",
   "metadata": {},
   "outputs": [],
   "source": []
  }
 ],
 "metadata": {
  "kernelspec": {
   "display_name": "Python 3 (ipykernel)",
   "language": "python",
   "name": "python3"
  },
  "language_info": {
   "codemirror_mode": {
    "name": "ipython",
    "version": 3
   },
   "file_extension": ".py",
   "mimetype": "text/x-python",
   "name": "python",
   "nbconvert_exporter": "python",
   "pygments_lexer": "ipython3",
   "version": "3.10.9"
  }
 },
 "nbformat": 4,
 "nbformat_minor": 5
}
